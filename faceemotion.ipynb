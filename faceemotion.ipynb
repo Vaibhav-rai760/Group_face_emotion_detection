{
 "cells": [
  {
   "cell_type": "code",
   "execution_count": 1,
   "id": "d8242976-91bd-4d7d-93c4-5a96d7fe71e8",
   "metadata": {},
   "outputs": [],
   "source": [
    "from tensorflow.keras.utils import to_categorical\n",
    "from tensorflow.keras.preprocessing.image import load_img\n",
    "from tensorflow.keras.models import Sequential\n",
    "from tensorflow.keras.layers import Dense, Conv2D, Dropout, Flatten, MaxPooling2D\n",
    "import os\n",
    "import pandas as pd\n",
    "import numpy as np\n"
   ]
  },
  {
   "cell_type": "code",
   "execution_count": 2,
   "id": "4662d835-9769-41aa-839b-3305af739053",
   "metadata": {},
   "outputs": [],
   "source": [
    "TRAIN_DIR = 'images/train'\n",
    "TEST_DIR = 'images/test'"
   ]
  },
  {
   "cell_type": "code",
   "execution_count": null,
   "id": "65c3fee6-d966-486d-bdc7-61e059c437df",
   "metadata": {},
   "outputs": [],
   "source": [
    "def createdataframe(dir):\n",
    "    image_paths = []\n",
    "    labels = []\n",
    "    for label in os.listdir(dir):\n",
    "        for imagename in os.listdir(os.path.join(dir,label)):\n",
    "            image_paths.append(os.path.join(dir,label,imagename))\n",
    "            labels.append(label)\n",
    "        print(label, \"completed\")\n",
    "    return image_paths,labels"
   ]
  },
  {
   "cell_type": "code",
   "execution_count": 4,
   "id": "e1082f93-7521-41c1-8ba2-3de3c16de846",
   "metadata": {},
   "outputs": [
    {
     "name": "stdout",
     "output_type": "stream",
     "text": [
      "happy completed\n",
      "sad completed\n",
      "fear completed\n",
      "surprise completed\n",
      "neutral completed\n",
      "angry completed\n",
      "disgust completed\n"
     ]
    }
   ],
   "source": [
    "train = pd.DataFrame()\n",
    "train['image'], train['label'] = createdataframe(TRAIN_DIR)"
   ]
  },
  {
   "cell_type": "code",
   "execution_count": 5,
   "id": "f03e1d63-d78e-44dd-9564-e6655e07dc58",
   "metadata": {},
   "outputs": [
    {
     "name": "stdout",
     "output_type": "stream",
     "text": [
      "                                image    label\n",
      "0         images/train/happy/3578.jpg    happy\n",
      "1        images/train/happy/16988.jpg    happy\n",
      "2         images/train/happy/2666.jpg    happy\n",
      "3         images/train/happy/5109.jpg    happy\n",
      "4        images/train/happy/11981.jpg    happy\n",
      "...                               ...      ...\n",
      "28816  images/train/disgust/10112.jpg  disgust\n",
      "28817  images/train/disgust/21668.jpg  disgust\n",
      "28818   images/train/disgust/7049.jpg  disgust\n",
      "28819   images/train/disgust/9716.jpg  disgust\n",
      "28820   images/train/disgust/3561.jpg  disgust\n",
      "\n",
      "[28821 rows x 2 columns]\n"
     ]
    }
   ],
   "source": [
    "print(train)"
   ]
  },
  {
   "cell_type": "code",
   "execution_count": 6,
   "id": "c92249e2-8c36-43b1-b541-4aa03c7411f6",
   "metadata": {},
   "outputs": [
    {
     "name": "stdout",
     "output_type": "stream",
     "text": [
      "happy completed\n",
      "sad completed\n",
      "fear completed\n",
      "surprise completed\n",
      "neutral completed\n",
      "angry completed\n",
      "disgust completed\n"
     ]
    }
   ],
   "source": [
    "test = pd.DataFrame()\n",
    "test['image'], test['label'] = createdataframe(TEST_DIR)"
   ]
  },
  {
   "cell_type": "code",
   "execution_count": 7,
   "id": "ee339600-253c-4aff-a741-0e1d050e5a31",
   "metadata": {},
   "outputs": [
    {
     "name": "stdout",
     "output_type": "stream",
     "text": [
      "                              image    label\n",
      "0       images/test/happy/23933.jpg    happy\n",
      "1       images/test/happy/24906.jpg    happy\n",
      "2       images/test/happy/18033.jpg    happy\n",
      "3       images/test/happy/15271.jpg    happy\n",
      "4       images/test/happy/26888.jpg    happy\n",
      "...                             ...      ...\n",
      "7061  images/test/disgust/20761.jpg  disgust\n",
      "7062  images/test/disgust/28710.jpg  disgust\n",
      "7063  images/test/disgust/23876.jpg  disgust\n",
      "7064   images/test/disgust/9460.jpg  disgust\n",
      "7065  images/test/disgust/35580.jpg  disgust\n",
      "\n",
      "[7066 rows x 2 columns]\n",
      "0         images/test/happy/23933.jpg\n",
      "1         images/test/happy/24906.jpg\n",
      "2         images/test/happy/18033.jpg\n",
      "3         images/test/happy/15271.jpg\n",
      "4         images/test/happy/26888.jpg\n",
      "                    ...              \n",
      "7061    images/test/disgust/20761.jpg\n",
      "7062    images/test/disgust/28710.jpg\n",
      "7063    images/test/disgust/23876.jpg\n",
      "7064     images/test/disgust/9460.jpg\n",
      "7065    images/test/disgust/35580.jpg\n",
      "Name: image, Length: 7066, dtype: object\n"
     ]
    }
   ],
   "source": [
    "print(test)\n",
    "print(test['image'])"
   ]
  },
  {
   "cell_type": "code",
   "execution_count": 8,
   "id": "6028e8f8-4d96-4a3a-8483-618792c87696",
   "metadata": {},
   "outputs": [],
   "source": [
    "from tqdm.notebook import tqdm"
   ]
  },
  {
   "cell_type": "code",
   "execution_count": 9,
   "id": "ec026f3a-3288-4244-8517-fd4cba6991d0",
   "metadata": {},
   "outputs": [],
   "source": [
    "def extract_features(images):\n",
    "    features = []\n",
    "    for image in tqdm(images):\n",
    "        img = load_img(image,grayscale =  True )\n",
    "        img = np.array(img)\n",
    "        features.append(img)\n",
    "    features = np.array(features)\n",
    "    features = features.reshape(len(features),48,48,1)\n",
    "    return features"
   ]
  },
  {
   "cell_type": "code",
   "execution_count": 10,
   "id": "0258a707-5abf-4d4b-8bc7-be5b6af77bb5",
   "metadata": {},
   "outputs": [
    {
     "data": {
      "application/vnd.jupyter.widget-view+json": {
       "model_id": "cc343df4a4294ae0bd18be206f6c99c3",
       "version_major": 2,
       "version_minor": 0
      },
      "text/plain": [
       "  0%|          | 0/28821 [00:00<?, ?it/s]"
      ]
     },
     "metadata": {},
     "output_type": "display_data"
    },
    {
     "name": "stderr",
     "output_type": "stream",
     "text": [
      "/usr/local/anaconda3/lib/python3.11/site-packages/keras/src/utils/image_utils.py:409: UserWarning: grayscale is deprecated. Please use color_mode = \"grayscale\"\n",
      "  warnings.warn(\n"
     ]
    }
   ],
   "source": [
    "train_features = extract_features(train['image'])"
   ]
  },
  {
   "cell_type": "code",
   "execution_count": 11,
   "id": "5a13430f-c06a-40aa-96bb-3baaaaa9d35c",
   "metadata": {},
   "outputs": [
    {
     "data": {
      "application/vnd.jupyter.widget-view+json": {
       "model_id": "95dc8f0316a14b6bb589cbcdeea03a09",
       "version_major": 2,
       "version_minor": 0
      },
      "text/plain": [
       "  0%|          | 0/7066 [00:00<?, ?it/s]"
      ]
     },
     "metadata": {},
     "output_type": "display_data"
    }
   ],
   "source": [
    "test_features = extract_features(test['image'])"
   ]
  },
  {
   "cell_type": "code",
   "execution_count": 12,
   "id": "5083f9eb-f6a0-4f5b-92bf-cce6f1cbf2a5",
   "metadata": {},
   "outputs": [],
   "source": [
    "x_train = train_features/255.0\n",
    "x_test = test_features/255.0"
   ]
  },
  {
   "cell_type": "code",
   "execution_count": 13,
   "id": "8faa5edf-bbf2-47b8-af58-326fc0d024eb",
   "metadata": {},
   "outputs": [],
   "source": [
    "from sklearn.preprocessing import LabelEncoder"
   ]
  },
  {
   "cell_type": "code",
   "execution_count": 14,
   "id": "707e7109-fc8b-4ed3-b4e2-3291514d3e61",
   "metadata": {},
   "outputs": [
    {
     "data": {
      "text/html": [
       "<style>#sk-container-id-1 {color: black;background-color: white;}#sk-container-id-1 pre{padding: 0;}#sk-container-id-1 div.sk-toggleable {background-color: white;}#sk-container-id-1 label.sk-toggleable__label {cursor: pointer;display: block;width: 100%;margin-bottom: 0;padding: 0.3em;box-sizing: border-box;text-align: center;}#sk-container-id-1 label.sk-toggleable__label-arrow:before {content: \"▸\";float: left;margin-right: 0.25em;color: #696969;}#sk-container-id-1 label.sk-toggleable__label-arrow:hover:before {color: black;}#sk-container-id-1 div.sk-estimator:hover label.sk-toggleable__label-arrow:before {color: black;}#sk-container-id-1 div.sk-toggleable__content {max-height: 0;max-width: 0;overflow: hidden;text-align: left;background-color: #f0f8ff;}#sk-container-id-1 div.sk-toggleable__content pre {margin: 0.2em;color: black;border-radius: 0.25em;background-color: #f0f8ff;}#sk-container-id-1 input.sk-toggleable__control:checked~div.sk-toggleable__content {max-height: 200px;max-width: 100%;overflow: auto;}#sk-container-id-1 input.sk-toggleable__control:checked~label.sk-toggleable__label-arrow:before {content: \"▾\";}#sk-container-id-1 div.sk-estimator input.sk-toggleable__control:checked~label.sk-toggleable__label {background-color: #d4ebff;}#sk-container-id-1 div.sk-label input.sk-toggleable__control:checked~label.sk-toggleable__label {background-color: #d4ebff;}#sk-container-id-1 input.sk-hidden--visually {border: 0;clip: rect(1px 1px 1px 1px);clip: rect(1px, 1px, 1px, 1px);height: 1px;margin: -1px;overflow: hidden;padding: 0;position: absolute;width: 1px;}#sk-container-id-1 div.sk-estimator {font-family: monospace;background-color: #f0f8ff;border: 1px dotted black;border-radius: 0.25em;box-sizing: border-box;margin-bottom: 0.5em;}#sk-container-id-1 div.sk-estimator:hover {background-color: #d4ebff;}#sk-container-id-1 div.sk-parallel-item::after {content: \"\";width: 100%;border-bottom: 1px solid gray;flex-grow: 1;}#sk-container-id-1 div.sk-label:hover label.sk-toggleable__label {background-color: #d4ebff;}#sk-container-id-1 div.sk-serial::before {content: \"\";position: absolute;border-left: 1px solid gray;box-sizing: border-box;top: 0;bottom: 0;left: 50%;z-index: 0;}#sk-container-id-1 div.sk-serial {display: flex;flex-direction: column;align-items: center;background-color: white;padding-right: 0.2em;padding-left: 0.2em;position: relative;}#sk-container-id-1 div.sk-item {position: relative;z-index: 1;}#sk-container-id-1 div.sk-parallel {display: flex;align-items: stretch;justify-content: center;background-color: white;position: relative;}#sk-container-id-1 div.sk-item::before, #sk-container-id-1 div.sk-parallel-item::before {content: \"\";position: absolute;border-left: 1px solid gray;box-sizing: border-box;top: 0;bottom: 0;left: 50%;z-index: -1;}#sk-container-id-1 div.sk-parallel-item {display: flex;flex-direction: column;z-index: 1;position: relative;background-color: white;}#sk-container-id-1 div.sk-parallel-item:first-child::after {align-self: flex-end;width: 50%;}#sk-container-id-1 div.sk-parallel-item:last-child::after {align-self: flex-start;width: 50%;}#sk-container-id-1 div.sk-parallel-item:only-child::after {width: 0;}#sk-container-id-1 div.sk-dashed-wrapped {border: 1px dashed gray;margin: 0 0.4em 0.5em 0.4em;box-sizing: border-box;padding-bottom: 0.4em;background-color: white;}#sk-container-id-1 div.sk-label label {font-family: monospace;font-weight: bold;display: inline-block;line-height: 1.2em;}#sk-container-id-1 div.sk-label-container {text-align: center;}#sk-container-id-1 div.sk-container {/* jupyter's `normalize.less` sets `[hidden] { display: none; }` but bootstrap.min.css set `[hidden] { display: none !important; }` so we also need the `!important` here to be able to override the default hidden behavior on the sphinx rendered scikit-learn.org. See: https://github.com/scikit-learn/scikit-learn/issues/21755 */display: inline-block !important;position: relative;}#sk-container-id-1 div.sk-text-repr-fallback {display: none;}</style><div id=\"sk-container-id-1\" class=\"sk-top-container\"><div class=\"sk-text-repr-fallback\"><pre>LabelEncoder()</pre><b>In a Jupyter environment, please rerun this cell to show the HTML representation or trust the notebook. <br />On GitHub, the HTML representation is unable to render, please try loading this page with nbviewer.org.</b></div><div class=\"sk-container\" hidden><div class=\"sk-item\"><div class=\"sk-estimator sk-toggleable\"><input class=\"sk-toggleable__control sk-hidden--visually\" id=\"sk-estimator-id-1\" type=\"checkbox\" checked><label for=\"sk-estimator-id-1\" class=\"sk-toggleable__label sk-toggleable__label-arrow\">LabelEncoder</label><div class=\"sk-toggleable__content\"><pre>LabelEncoder()</pre></div></div></div></div></div>"
      ],
      "text/plain": [
       "LabelEncoder()"
      ]
     },
     "execution_count": 14,
     "metadata": {},
     "output_type": "execute_result"
    }
   ],
   "source": [
    "le = LabelEncoder()\n",
    "le.fit(train['label'])"
   ]
  },
  {
   "cell_type": "code",
   "execution_count": 15,
   "id": "63666efd-5824-4382-ac49-1423b9d2dfa9",
   "metadata": {},
   "outputs": [],
   "source": [
    "y_train = le.transform(train['label'])\n",
    "y_test = le.transform(test['label'])"
   ]
  },
  {
   "cell_type": "code",
   "execution_count": 16,
   "id": "b6f2cb31-16f2-424d-972e-b191df06ccfe",
   "metadata": {},
   "outputs": [],
   "source": [
    "y_train = to_categorical(y_train,num_classes = 7)\n",
    "y_test = to_categorical(y_test,num_classes = 7)"
   ]
  },
  {
   "cell_type": "code",
   "execution_count": 17,
   "id": "0ee4c6cf-93f9-45ee-bc9b-df6cd88f7aa1",
   "metadata": {},
   "outputs": [],
   "source": [
    "model = Sequential()\n",
    "# convolutional layers\n",
    "model.add(Conv2D(128, kernel_size=(3,3), activation='relu', input_shape=(48,48,1)))\n",
    "model.add(MaxPooling2D(pool_size=(2,2)))\n",
    "model.add(Dropout(0.4))\n",
    "\n",
    "model.add(Conv2D(256, kernel_size=(3,3), activation='relu'))\n",
    "model.add(MaxPooling2D(pool_size=(2,2)))\n",
    "model.add(Dropout(0.4))\n",
    "\n",
    "model.add(Conv2D(512, kernel_size=(3,3), activation='relu'))\n",
    "model.add(MaxPooling2D(pool_size=(2,2)))\n",
    "model.add(Dropout(0.4))\n",
    "\n",
    "model.add(Conv2D(512, kernel_size=(3,3), activation='relu'))\n",
    "model.add(MaxPooling2D(pool_size=(2,2)))\n",
    "model.add(Dropout(0.4))\n",
    "\n",
    "model.add(Flatten())\n",
    "# fully connected layers\n",
    "model.add(Dense(512, activation='relu'))\n",
    "model.add(Dropout(0.4))\n",
    "model.add(Dense(256, activation='relu'))\n",
    "model.add(Dropout(0.3))\n",
    "# output layer\n",
    "model.add(Dense(7, activation='softmax'))"
   ]
  },
  {
   "cell_type": "code",
   "execution_count": 18,
   "id": "d801d553-67f0-4dd6-b141-19f69b533813",
   "metadata": {},
   "outputs": [],
   "source": [
    "model.compile(optimizer = 'adam', loss = 'categorical_crossentropy', metrics = 'accuracy' )"
   ]
  },
  {
   "cell_type": "code",
   "execution_count": 20,
   "id": "c09acc1c-356b-4ec6-aa10-2ed24ea4c3f6",
   "metadata": {},
   "outputs": [
    {
     "name": "stdout",
     "output_type": "stream",
     "text": [
      "Epoch 1/100\n",
      "145/145 [==============================] - 410s 3s/step - loss: 1.8195 - accuracy: 0.2466 - val_loss: 1.8064 - val_accuracy: 0.2587\n",
      "Epoch 2/100\n",
      "145/145 [==============================] - 435s 3s/step - loss: 1.7988 - accuracy: 0.2498 - val_loss: 1.7696 - val_accuracy: 0.2642\n",
      "Epoch 3/100\n",
      "145/145 [==============================] - 359s 2s/step - loss: 1.7105 - accuracy: 0.3023 - val_loss: 1.6063 - val_accuracy: 0.3726\n",
      "Epoch 4/100\n",
      "145/145 [==============================] - 363s 3s/step - loss: 1.5748 - accuracy: 0.3818 - val_loss: 1.4238 - val_accuracy: 0.4529\n",
      "Epoch 5/100\n",
      "145/145 [==============================] - 364s 3s/step - loss: 1.4700 - accuracy: 0.4307 - val_loss: 1.3856 - val_accuracy: 0.4660\n",
      "Epoch 6/100\n",
      "145/145 [==============================] - 365s 3s/step - loss: 1.3995 - accuracy: 0.4609 - val_loss: 1.2814 - val_accuracy: 0.5079\n",
      "Epoch 7/100\n",
      "145/145 [==============================] - 364s 3s/step - loss: 1.3526 - accuracy: 0.4802 - val_loss: 1.2499 - val_accuracy: 0.5287\n",
      "Epoch 8/100\n",
      "145/145 [==============================] - 365s 3s/step - loss: 1.3200 - accuracy: 0.4929 - val_loss: 1.2047 - val_accuracy: 0.5412\n",
      "Epoch 9/100\n",
      "145/145 [==============================] - 364s 3s/step - loss: 1.2945 - accuracy: 0.5069 - val_loss: 1.1924 - val_accuracy: 0.5494\n",
      "Epoch 10/100\n",
      "145/145 [==============================] - 365s 3s/step - loss: 1.2630 - accuracy: 0.5155 - val_loss: 1.1643 - val_accuracy: 0.5637\n",
      "Epoch 11/100\n",
      "145/145 [==============================] - 361s 2s/step - loss: 1.2425 - accuracy: 0.5252 - val_loss: 1.1801 - val_accuracy: 0.5549\n",
      "Epoch 12/100\n",
      "145/145 [==============================] - 361s 2s/step - loss: 1.2192 - accuracy: 0.5378 - val_loss: 1.1610 - val_accuracy: 0.5601\n",
      "Epoch 13/100\n",
      "145/145 [==============================] - 348s 2s/step - loss: 1.2016 - accuracy: 0.5438 - val_loss: 1.1217 - val_accuracy: 0.5722\n",
      "Epoch 14/100\n",
      "145/145 [==============================] - 337s 2s/step - loss: 1.1912 - accuracy: 0.5478 - val_loss: 1.1145 - val_accuracy: 0.5797\n",
      "Epoch 15/100\n",
      "145/145 [==============================] - 339s 2s/step - loss: 1.1726 - accuracy: 0.5523 - val_loss: 1.1149 - val_accuracy: 0.5819\n",
      "Epoch 16/100\n",
      "145/145 [==============================] - 335s 2s/step - loss: 1.1647 - accuracy: 0.5577 - val_loss: 1.1016 - val_accuracy: 0.5834\n",
      "Epoch 17/100\n",
      "145/145 [==============================] - 335s 2s/step - loss: 1.1519 - accuracy: 0.5628 - val_loss: 1.0927 - val_accuracy: 0.5856\n",
      "Epoch 18/100\n",
      "145/145 [==============================] - 339s 2s/step - loss: 1.1349 - accuracy: 0.5702 - val_loss: 1.0923 - val_accuracy: 0.5849\n",
      "Epoch 19/100\n",
      "145/145 [==============================] - 335s 2s/step - loss: 1.1233 - accuracy: 0.5733 - val_loss: 1.0835 - val_accuracy: 0.5923\n",
      "Epoch 20/100\n",
      "145/145 [==============================] - 337s 2s/step - loss: 1.1128 - accuracy: 0.5766 - val_loss: 1.0696 - val_accuracy: 0.5961\n",
      "Epoch 21/100\n",
      "145/145 [==============================] - 339s 2s/step - loss: 1.1024 - accuracy: 0.5827 - val_loss: 1.0735 - val_accuracy: 0.5941\n",
      "Epoch 22/100\n",
      "145/145 [==============================] - 335s 2s/step - loss: 1.0899 - accuracy: 0.5857 - val_loss: 1.0746 - val_accuracy: 0.5978\n",
      "Epoch 23/100\n",
      "145/145 [==============================] - 334s 2s/step - loss: 1.0830 - accuracy: 0.5934 - val_loss: 1.0666 - val_accuracy: 0.6003\n",
      "Epoch 24/100\n",
      "145/145 [==============================] - 335s 2s/step - loss: 1.0796 - accuracy: 0.5897 - val_loss: 1.0673 - val_accuracy: 0.5968\n",
      "Epoch 25/100\n",
      "145/145 [==============================] - 335s 2s/step - loss: 1.0641 - accuracy: 0.5990 - val_loss: 1.0528 - val_accuracy: 0.6070\n",
      "Epoch 26/100\n",
      "145/145 [==============================] - 344s 2s/step - loss: 1.0503 - accuracy: 0.5997 - val_loss: 1.0451 - val_accuracy: 0.6087\n",
      "Epoch 27/100\n",
      "145/145 [==============================] - 336s 2s/step - loss: 1.0419 - accuracy: 0.6087 - val_loss: 1.0544 - val_accuracy: 0.6044\n",
      "Epoch 28/100\n",
      "145/145 [==============================] - 338s 2s/step - loss: 1.0464 - accuracy: 0.6012 - val_loss: 1.0486 - val_accuracy: 0.6040\n",
      "Epoch 29/100\n",
      "145/145 [==============================] - 339s 2s/step - loss: 1.0324 - accuracy: 0.6064 - val_loss: 1.0488 - val_accuracy: 0.6054\n",
      "Epoch 30/100\n",
      "145/145 [==============================] - 316s 2s/step - loss: 1.0254 - accuracy: 0.6129 - val_loss: 1.0399 - val_accuracy: 0.6102\n",
      "Epoch 31/100\n",
      "145/145 [==============================] - 210s 1s/step - loss: 1.0133 - accuracy: 0.6140 - val_loss: 1.0468 - val_accuracy: 0.6071\n",
      "Epoch 32/100\n",
      "145/145 [==============================] - 219s 2s/step - loss: 1.0012 - accuracy: 0.6215 - val_loss: 1.0380 - val_accuracy: 0.6057\n",
      "Epoch 33/100\n",
      "145/145 [==============================] - 221s 2s/step - loss: 0.9973 - accuracy: 0.6228 - val_loss: 1.0313 - val_accuracy: 0.6132\n",
      "Epoch 34/100\n",
      "145/145 [==============================] - 218s 2s/step - loss: 0.9925 - accuracy: 0.6284 - val_loss: 1.0431 - val_accuracy: 0.6091\n",
      "Epoch 35/100\n",
      "145/145 [==============================] - 219s 2s/step - loss: 0.9843 - accuracy: 0.6292 - val_loss: 1.0465 - val_accuracy: 0.6122\n",
      "Epoch 36/100\n",
      "145/145 [==============================] - 221s 2s/step - loss: 0.9769 - accuracy: 0.6328 - val_loss: 1.0388 - val_accuracy: 0.6138\n",
      "Epoch 37/100\n",
      "145/145 [==============================] - 233s 2s/step - loss: 0.9732 - accuracy: 0.6360 - val_loss: 1.0280 - val_accuracy: 0.6169\n",
      "Epoch 38/100\n",
      "145/145 [==============================] - 308s 2s/step - loss: 0.9658 - accuracy: 0.6372 - val_loss: 1.0256 - val_accuracy: 0.6159\n",
      "Epoch 39/100\n",
      "145/145 [==============================] - 216s 1s/step - loss: 0.9567 - accuracy: 0.6397 - val_loss: 1.0206 - val_accuracy: 0.6175\n",
      "Epoch 40/100\n",
      "145/145 [==============================] - 222s 2s/step - loss: 0.9490 - accuracy: 0.6418 - val_loss: 1.0354 - val_accuracy: 0.6136\n",
      "Epoch 41/100\n",
      "145/145 [==============================] - 1148s 8s/step - loss: 0.9531 - accuracy: 0.6414 - val_loss: 1.0262 - val_accuracy: 0.6141\n",
      "Epoch 42/100\n",
      "145/145 [==============================] - 204s 1s/step - loss: 0.9330 - accuracy: 0.6487 - val_loss: 1.0273 - val_accuracy: 0.6168\n",
      "Epoch 43/100\n",
      "145/145 [==============================] - 214s 1s/step - loss: 0.9361 - accuracy: 0.6478 - val_loss: 1.0343 - val_accuracy: 0.6194\n",
      "Epoch 44/100\n",
      "145/145 [==============================] - 579s 4s/step - loss: 0.9261 - accuracy: 0.6505 - val_loss: 1.0269 - val_accuracy: 0.6142\n",
      "Epoch 45/100\n",
      "145/145 [==============================] - 206s 1s/step - loss: 0.9238 - accuracy: 0.6531 - val_loss: 1.0235 - val_accuracy: 0.6192\n",
      "Epoch 46/100\n",
      "145/145 [==============================] - 217s 1s/step - loss: 0.9254 - accuracy: 0.6541 - val_loss: 1.0378 - val_accuracy: 0.6146\n",
      "Epoch 47/100\n",
      "145/145 [==============================] - 228s 2s/step - loss: 0.9079 - accuracy: 0.6613 - val_loss: 1.0227 - val_accuracy: 0.6238\n",
      "Epoch 48/100\n",
      "145/145 [==============================] - 466s 3s/step - loss: 0.8971 - accuracy: 0.6641 - val_loss: 1.0225 - val_accuracy: 0.6233\n",
      "Epoch 49/100\n",
      "145/145 [==============================] - 215s 1s/step - loss: 0.8894 - accuracy: 0.6637 - val_loss: 1.0297 - val_accuracy: 0.6155\n",
      "Epoch 50/100\n",
      "145/145 [==============================] - 222s 2s/step - loss: 0.8802 - accuracy: 0.6717 - val_loss: 1.0191 - val_accuracy: 0.6176\n",
      "Epoch 51/100\n",
      "145/145 [==============================] - 269s 2s/step - loss: 0.8747 - accuracy: 0.6730 - val_loss: 1.0232 - val_accuracy: 0.6237\n",
      "Epoch 52/100\n",
      "145/145 [==============================] - 228s 2s/step - loss: 0.8803 - accuracy: 0.6742 - val_loss: 1.0201 - val_accuracy: 0.6202\n",
      "Epoch 53/100\n",
      "145/145 [==============================] - 340s 2s/step - loss: 0.8684 - accuracy: 0.6767 - val_loss: 1.0194 - val_accuracy: 0.6214\n",
      "Epoch 54/100\n",
      "145/145 [==============================] - 341s 2s/step - loss: 0.8613 - accuracy: 0.6784 - val_loss: 1.0237 - val_accuracy: 0.6203\n",
      "Epoch 55/100\n",
      "145/145 [==============================] - 341s 2s/step - loss: 0.8594 - accuracy: 0.6794 - val_loss: 1.0192 - val_accuracy: 0.6224\n",
      "Epoch 56/100\n",
      "145/145 [==============================] - 341s 2s/step - loss: 0.8578 - accuracy: 0.6792 - val_loss: 1.0228 - val_accuracy: 0.6240\n",
      "Epoch 57/100\n"
     ]
    },
    {
     "name": "stdout",
     "output_type": "stream",
     "text": [
      "145/145 [==============================] - 341s 2s/step - loss: 0.8412 - accuracy: 0.6855 - val_loss: 1.0283 - val_accuracy: 0.6221\n",
      "Epoch 58/100\n",
      "145/145 [==============================] - 342s 2s/step - loss: 0.8425 - accuracy: 0.6846 - val_loss: 1.0179 - val_accuracy: 0.6213\n",
      "Epoch 59/100\n",
      "145/145 [==============================] - 340s 2s/step - loss: 0.8344 - accuracy: 0.6885 - val_loss: 1.0192 - val_accuracy: 0.6223\n",
      "Epoch 60/100\n",
      "145/145 [==============================] - 340s 2s/step - loss: 0.8310 - accuracy: 0.6889 - val_loss: 1.0076 - val_accuracy: 0.6298\n",
      "Epoch 61/100\n",
      "145/145 [==============================] - 341s 2s/step - loss: 0.8322 - accuracy: 0.6937 - val_loss: 1.0225 - val_accuracy: 0.6278\n",
      "Epoch 62/100\n",
      "145/145 [==============================] - 341s 2s/step - loss: 0.8240 - accuracy: 0.6955 - val_loss: 1.0126 - val_accuracy: 0.6309\n",
      "Epoch 63/100\n",
      "145/145 [==============================] - 340s 2s/step - loss: 0.8096 - accuracy: 0.6996 - val_loss: 1.0112 - val_accuracy: 0.6244\n",
      "Epoch 64/100\n",
      "145/145 [==============================] - 340s 2s/step - loss: 0.7974 - accuracy: 0.7035 - val_loss: 1.0254 - val_accuracy: 0.6255\n",
      "Epoch 65/100\n",
      "145/145 [==============================] - 341s 2s/step - loss: 0.7937 - accuracy: 0.7080 - val_loss: 1.0237 - val_accuracy: 0.6278\n",
      "Epoch 66/100\n",
      "145/145 [==============================] - 339s 2s/step - loss: 0.7932 - accuracy: 0.7073 - val_loss: 1.0113 - val_accuracy: 0.6298\n",
      "Epoch 67/100\n",
      "145/145 [==============================] - 339s 2s/step - loss: 0.7945 - accuracy: 0.7053 - val_loss: 1.0250 - val_accuracy: 0.6257\n",
      "Epoch 68/100\n",
      "145/145 [==============================] - 357s 2s/step - loss: 0.7863 - accuracy: 0.7054 - val_loss: 1.0403 - val_accuracy: 0.6292\n",
      "Epoch 69/100\n",
      "145/145 [==============================] - 338s 2s/step - loss: 0.7907 - accuracy: 0.7085 - val_loss: 1.0264 - val_accuracy: 0.6288\n",
      "Epoch 70/100\n",
      "145/145 [==============================] - 336s 2s/step - loss: 0.7716 - accuracy: 0.7151 - val_loss: 1.0209 - val_accuracy: 0.6289\n",
      "Epoch 71/100\n",
      "145/145 [==============================] - 357s 2s/step - loss: 0.7727 - accuracy: 0.7122 - val_loss: 1.0316 - val_accuracy: 0.6264\n",
      "Epoch 72/100\n",
      "145/145 [==============================] - 372s 3s/step - loss: 0.7771 - accuracy: 0.7136 - val_loss: 1.0300 - val_accuracy: 0.6272\n",
      "Epoch 73/100\n",
      "145/145 [==============================] - 373s 3s/step - loss: 0.7589 - accuracy: 0.7208 - val_loss: 1.0256 - val_accuracy: 0.6303\n",
      "Epoch 74/100\n",
      "145/145 [==============================] - 341s 2s/step - loss: 0.7654 - accuracy: 0.7150 - val_loss: 1.0200 - val_accuracy: 0.6325\n",
      "Epoch 75/100\n",
      "145/145 [==============================] - 338s 2s/step - loss: 0.7461 - accuracy: 0.7242 - val_loss: 1.0278 - val_accuracy: 0.6308\n",
      "Epoch 76/100\n",
      "145/145 [==============================] - 350s 2s/step - loss: 0.7464 - accuracy: 0.7258 - val_loss: 1.0193 - val_accuracy: 0.6323\n",
      "Epoch 77/100\n",
      "145/145 [==============================] - 390s 3s/step - loss: 0.7396 - accuracy: 0.7289 - val_loss: 1.0232 - val_accuracy: 0.6316\n",
      "Epoch 78/100\n",
      "145/145 [==============================] - 381s 3s/step - loss: 0.7378 - accuracy: 0.7292 - val_loss: 1.0296 - val_accuracy: 0.6323\n",
      "Epoch 79/100\n",
      "145/145 [==============================] - 379s 3s/step - loss: 0.7379 - accuracy: 0.7284 - val_loss: 1.0380 - val_accuracy: 0.6340\n",
      "Epoch 80/100\n",
      "145/145 [==============================] - 379s 3s/step - loss: 0.7276 - accuracy: 0.7327 - val_loss: 1.0203 - val_accuracy: 0.6327\n",
      "Epoch 81/100\n",
      "145/145 [==============================] - 378s 3s/step - loss: 0.7271 - accuracy: 0.7293 - val_loss: 1.0234 - val_accuracy: 0.6340\n",
      "Epoch 82/100\n",
      "145/145 [==============================] - 382s 3s/step - loss: 0.7173 - accuracy: 0.7364 - val_loss: 1.0345 - val_accuracy: 0.6289\n",
      "Epoch 83/100\n",
      "145/145 [==============================] - 368s 3s/step - loss: 0.7240 - accuracy: 0.7347 - val_loss: 1.0464 - val_accuracy: 0.6296\n",
      "Epoch 84/100\n",
      "145/145 [==============================] - 354s 2s/step - loss: 0.7217 - accuracy: 0.7350 - val_loss: 1.0384 - val_accuracy: 0.6299\n",
      "Epoch 85/100\n",
      "145/145 [==============================] - 347s 2s/step - loss: 0.7073 - accuracy: 0.7435 - val_loss: 1.0238 - val_accuracy: 0.6353\n",
      "Epoch 86/100\n",
      "145/145 [==============================] - 248s 2s/step - loss: 0.7193 - accuracy: 0.7367 - val_loss: 1.0300 - val_accuracy: 0.6267\n",
      "Epoch 87/100\n",
      "145/145 [==============================] - 219s 2s/step - loss: 0.6969 - accuracy: 0.7445 - val_loss: 1.0224 - val_accuracy: 0.6322\n",
      "Epoch 88/100\n",
      "145/145 [==============================] - 223s 2s/step - loss: 0.6992 - accuracy: 0.7453 - val_loss: 1.0458 - val_accuracy: 0.6356\n",
      "Epoch 89/100\n",
      "145/145 [==============================] - 228s 2s/step - loss: 0.6884 - accuracy: 0.7464 - val_loss: 1.0390 - val_accuracy: 0.6339\n",
      "Epoch 90/100\n",
      "145/145 [==============================] - 238s 2s/step - loss: 0.6871 - accuracy: 0.7463 - val_loss: 1.0209 - val_accuracy: 0.6353\n",
      "Epoch 91/100\n",
      "145/145 [==============================] - 235s 2s/step - loss: 0.6942 - accuracy: 0.7466 - val_loss: 1.0385 - val_accuracy: 0.6319\n",
      "Epoch 92/100\n",
      "145/145 [==============================] - 241s 2s/step - loss: 0.6778 - accuracy: 0.7511 - val_loss: 1.0413 - val_accuracy: 0.6336\n",
      "Epoch 93/100\n",
      "145/145 [==============================] - 234s 2s/step - loss: 0.6804 - accuracy: 0.7511 - val_loss: 1.0406 - val_accuracy: 0.6318\n",
      "Epoch 94/100\n",
      "145/145 [==============================] - 242s 2s/step - loss: 0.6757 - accuracy: 0.7524 - val_loss: 1.0364 - val_accuracy: 0.6337\n",
      "Epoch 95/100\n",
      "145/145 [==============================] - 240s 2s/step - loss: 0.6685 - accuracy: 0.7559 - val_loss: 1.0429 - val_accuracy: 0.6261\n",
      "Epoch 96/100\n",
      "145/145 [==============================] - 244s 2s/step - loss: 0.6655 - accuracy: 0.7571 - val_loss: 1.0433 - val_accuracy: 0.6309\n",
      "Epoch 97/100\n",
      "145/145 [==============================] - 246s 2s/step - loss: 0.6641 - accuracy: 0.7582 - val_loss: 1.0303 - val_accuracy: 0.6320\n",
      "Epoch 98/100\n",
      "145/145 [==============================] - 256s 2s/step - loss: 0.6624 - accuracy: 0.7589 - val_loss: 1.0312 - val_accuracy: 0.6306\n",
      "Epoch 99/100\n",
      "145/145 [==============================] - 251s 2s/step - loss: 0.6591 - accuracy: 0.7603 - val_loss: 1.0346 - val_accuracy: 0.6322\n",
      "Epoch 100/100\n",
      "145/145 [==============================] - 250s 2s/step - loss: 0.6510 - accuracy: 0.7634 - val_loss: 1.0322 - val_accuracy: 0.6330\n"
     ]
    },
    {
     "data": {
      "text/plain": [
       "<keras.src.callbacks.History at 0x17fd15a50>"
      ]
     },
     "execution_count": 20,
     "metadata": {},
     "output_type": "execute_result"
    }
   ],
   "source": [
    "model.fit(x= x_train,y = y_train, batch_size = 200, epochs = 100, validation_data = (x_test,y_test))"
   ]
  },
  {
   "cell_type": "code",
   "execution_count": 21,
   "id": "1e4f445f-e314-4bad-a8b0-491a67e594f3",
   "metadata": {},
   "outputs": [
    {
     "name": "stderr",
     "output_type": "stream",
     "text": [
      "/usr/local/anaconda3/lib/python3.11/site-packages/keras/src/engine/training.py:3103: UserWarning: You are saving your model as an HDF5 file via `model.save()`. This file format is considered legacy. We recommend using instead the native Keras format, e.g. `model.save('my_model.keras')`.\n",
      "  saving_api.save_model(\n"
     ]
    }
   ],
   "source": [
    "model_json = model.to_json()\n",
    "with open(\"emotiondetector.json\",'w') as json_file:\n",
    "    json_file.write(model_json)\n",
    "model.save(\"emotiondetector.h5\")"
   ]
  },
  {
   "cell_type": "code",
   "execution_count": 22,
   "id": "14d4fdbd-c484-4b1e-9ceb-909023c08c06",
   "metadata": {},
   "outputs": [],
   "source": [
    "from keras.models import model_from_json"
   ]
  },
  {
   "cell_type": "code",
   "execution_count": 23,
   "id": "7a899f08-4cdd-4aa3-8af0-21928292b5f0",
   "metadata": {},
   "outputs": [],
   "source": [
    "json_file = open(\"emotiondetector.json\", \"r\")\n",
    "model_json = json_file.read()\n",
    "json_file.close()\n",
    "model = model_from_json(model_json)\n",
    "model.load_weights(\"emotiondetector.h5\")"
   ]
  },
  {
   "cell_type": "code",
   "execution_count": 24,
   "id": "d5929f34-0214-49ff-96f6-5158b790e56e",
   "metadata": {},
   "outputs": [],
   "source": [
    "label = ['angry','disgust','fear','happy','neutral','sad','surprise']"
   ]
  },
  {
   "cell_type": "code",
   "execution_count": 25,
   "id": "c02cb55d-abb0-4cd2-a6ea-34eb897c6c8f",
   "metadata": {},
   "outputs": [],
   "source": [
    "def ef(image):\n",
    "    img = load_img(image,grayscale =  True )\n",
    "    feature = np.array(img)\n",
    "    feature = feature.reshape(1,48,48,1)\n",
    "    return feature/255.0"
   ]
  },
  {
   "cell_type": "code",
   "execution_count": 26,
   "id": "ef5046a9-5162-49ae-b36d-8146e35b53d3",
   "metadata": {},
   "outputs": [
    {
     "name": "stdout",
     "output_type": "stream",
     "text": [
      "original image is of happy\n",
      "1/1 [==============================] - 0s 73ms/step\n",
      "model prediction is  happy\n"
     ]
    },
    {
     "name": "stderr",
     "output_type": "stream",
     "text": [
      "/usr/local/anaconda3/lib/python3.11/site-packages/keras/src/utils/image_utils.py:409: UserWarning: grayscale is deprecated. Please use color_mode = \"grayscale\"\n",
      "  warnings.warn(\n"
     ]
    }
   ],
   "source": [
    "image = 'images/train/happy/16.jpg'\n",
    "print(\"original image is of happy\")\n",
    "img = ef(image)\n",
    "pred = model.predict(img)\n",
    "pred_label = label[pred.argmax()]\n",
    "print(\"model prediction is \",pred_label)"
   ]
  },
  {
   "cell_type": "code",
   "execution_count": 27,
   "id": "d68bdda2-0606-48c5-9fe2-cb23fd49e23a",
   "metadata": {},
   "outputs": [
    {
     "name": "stdout",
     "output_type": "stream",
     "text": [
      "Requirement already satisfied: matplotlib in /usr/local/anaconda3/lib/python3.11/site-packages (3.7.1)\n",
      "Requirement already satisfied: contourpy>=1.0.1 in /usr/local/anaconda3/lib/python3.11/site-packages (from matplotlib) (1.0.5)\n",
      "Requirement already satisfied: cycler>=0.10 in /usr/local/anaconda3/lib/python3.11/site-packages (from matplotlib) (0.11.0)\n",
      "Requirement already satisfied: fonttools>=4.22.0 in /usr/local/anaconda3/lib/python3.11/site-packages (from matplotlib) (4.25.0)\n",
      "Requirement already satisfied: kiwisolver>=1.0.1 in /usr/local/anaconda3/lib/python3.11/site-packages (from matplotlib) (1.4.4)\n",
      "Requirement already satisfied: numpy>=1.20 in /usr/local/anaconda3/lib/python3.11/site-packages (from matplotlib) (1.24.3)\n",
      "Requirement already satisfied: packaging>=20.0 in /usr/local/anaconda3/lib/python3.11/site-packages (from matplotlib) (23.0)\n",
      "Requirement already satisfied: pillow>=6.2.0 in /usr/local/anaconda3/lib/python3.11/site-packages (from matplotlib) (9.4.0)\n",
      "Requirement already satisfied: pyparsing>=2.3.1 in /usr/local/anaconda3/lib/python3.11/site-packages (from matplotlib) (3.0.9)\n",
      "Requirement already satisfied: python-dateutil>=2.7 in /usr/local/anaconda3/lib/python3.11/site-packages (from matplotlib) (2.8.2)\n",
      "Requirement already satisfied: six>=1.5 in /usr/local/anaconda3/lib/python3.11/site-packages (from python-dateutil>=2.7->matplotlib) (1.16.0)\n",
      "Note: you may need to restart the kernel to use updated packages.\n"
     ]
    }
   ],
   "source": [
    "pip install matplotlib\n"
   ]
  },
  {
   "cell_type": "code",
   "execution_count": 28,
   "id": "f126902a-6ded-40b5-ad1f-e4de977a9024",
   "metadata": {},
   "outputs": [],
   "source": [
    "import matplotlib.pyplot as plt\n",
    "%matplotlib inline"
   ]
  },
  {
   "cell_type": "code",
   "execution_count": 29,
   "id": "ccf30617-fd07-4602-8344-ddc0b4b1fc16",
   "metadata": {},
   "outputs": [
    {
     "name": "stdout",
     "output_type": "stream",
     "text": [
      "original image is of happy\n",
      "1/1 [==============================] - 0s 17ms/step\n",
      "model prediction is  happy\n"
     ]
    },
    {
     "name": "stderr",
     "output_type": "stream",
     "text": [
      "/usr/local/anaconda3/lib/python3.11/site-packages/keras/src/utils/image_utils.py:409: UserWarning: grayscale is deprecated. Please use color_mode = \"grayscale\"\n",
      "  warnings.warn(\n"
     ]
    },
    {
     "data": {
      "text/plain": [
       "<matplotlib.image.AxesImage at 0x2efe15c50>"
      ]
     },
     "execution_count": 29,
     "metadata": {},
     "output_type": "execute_result"
    },
    {
     "data": {
      "image/png": "[encoded data removed]",
      "text/plain": [
       "<Figure size 640x480 with 1 Axes>"
      ]
     },
     "metadata": {},
     "output_type": "display_data"
    }
   ],
   "source": [
    "image = 'images/train/happy/16.jpg'\n",
    "print(\"original image is of happy\")\n",
    "img = ef(image)\n",
    "pred = model.predict(img)\n",
    "pred_label = label[pred.argmax()]\n",
    "print(\"model prediction is \",pred_label)\n",
    "plt.imshow(img.reshape(48,48),cmap='gray')"
   ]
  },
  {
   "cell_type": "code",
   "execution_count": 30,
   "id": "19d4cc11-f085-4a54-96b1-f55ea836a1da",
   "metadata": {},
   "outputs": [
    {
     "name": "stdout",
     "output_type": "stream",
     "text": [
      "original image is of happy\n",
      "1/1 [==============================] - 0s 51ms/step\n",
      "model prediction is  happy\n"
     ]
    },
    {
     "data": {
      "text/plain": [
       "<matplotlib.image.AxesImage at 0x291741650>"
      ]
     },
     "execution_count": 30,
     "metadata": {},
     "output_type": "execute_result"
    },
    {
     "data": {
      "image/png": "[encoded data removed]",
      "text/plain": [
       "<Figure size 640x480 with 1 Axes>"
      ]
     },
     "metadata": {},
     "output_type": "display_data"
    }
   ],
   "source": [
    "image = 'images/test/happy/8.jpg'\n",
    "print(\"original image is of happy\")\n",
    "img = ef(image)\n",
    "pred = model.predict(img)\n",
    "pred_label = label[pred.argmax()]\n",
    "print(\"model prediction is \",pred_label)\n",
    "plt.imshow(img.reshape(48,48),cmap='gray')"
   ]
  },
  {
   "cell_type": "code",
   "execution_count": 31,
   "id": "fa1bee96-2694-4b02-b732-403a36ca1f93",
   "metadata": {},
   "outputs": [
    {
     "name": "stdout",
     "output_type": "stream",
     "text": [
      "original image is of disgust\n",
      "1/1 [==============================] - 0s 14ms/step\n",
      "model prediction is  disgust\n"
     ]
    },
    {
     "data": {
      "text/plain": [
       "<matplotlib.image.AxesImage at 0x2f7c509d0>"
      ]
     },
     "execution_count": 31,
     "metadata": {},
     "output_type": "execute_result"
    },
    {
     "data": {
      "image/png": "[encoded data removed]",
      "text/plain": [
       "<Figure size 640x480 with 1 Axes>"
      ]
     },
     "metadata": {},
     "output_type": "display_data"
    }
   ],
   "source": [
    "image = 'images/train/disgust/299.jpg'\n",
    "print(\"original image is of disgust\")\n",
    "img = ef(image)\n",
    "pred = model.predict(img)\n",
    "pred_label = label[pred.argmax()]\n",
    "print(\"model prediction is \",pred_label)\n",
    "plt.imshow(img.reshape(48,48),cmap='gray')"
   ]
  },
  {
   "cell_type": "code",
   "execution_count": 32,
   "id": "e32bb415-1d3a-4900-aae6-a0ff63b32cdb",
   "metadata": {},
   "outputs": [
    {
     "name": "stdout",
     "output_type": "stream",
     "text": [
      "original image is of surprise\n",
      "1/1 [==============================] - 0s 15ms/step\n",
      "model prediction is  surprise\n"
     ]
    },
    {
     "data": {
      "text/plain": [
       "<matplotlib.image.AxesImage at 0x2f7cc4b90>"
      ]
     },
     "execution_count": 32,
     "metadata": {},
     "output_type": "execute_result"
    },
    {
     "data": {
      "image/png": "[encoded data removed]",
      "text/plain": [
       "<Figure size 640x480 with 1 Axes>"
      ]
     },
     "metadata": {},
     "output_type": "display_data"
    }
   ],
   "source": [
    "image = 'images/train/surprise/15.jpg'\n",
    "print(\"original image is of surprise\")\n",
    "img = ef(image)\n",
    "pred = model.predict(img)\n",
    "pred_label = label[pred.argmax()]\n",
    "print(\"model prediction is \",pred_label)\n",
    "plt.imshow(img.reshape(48,48),cmap='gray')"
   ]
  }
 ],
 "metadata": {
  "kernelspec": {
   "display_name": "Python 3 (ipykernel)",
   "language": "python",
   "name": "python3"
  },
  "language_info": {
   "codemirror_mode": {
    "name": "ipython",
    "version": 3
   },
   "file_extension": ".py",
   "mimetype": "text/x-python",
   "name": "python",
   "nbconvert_exporter": "python",
   "pygments_lexer": "ipython3",
   "version": "3.11.1"
  }
 },
 "nbformat": 4,
 "nbformat_minor": 5
}
